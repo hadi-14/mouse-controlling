{
 "cells": [
  {
   "cell_type": "code",
   "execution_count": 1,
   "id": "8951d6c8",
   "metadata": {
    "scrolled": true
   },
   "outputs": [],
   "source": [
    "import pyautogui,time"
   ]
  },
  {
   "cell_type": "code",
   "execution_count": 6,
   "id": "1598d8c5",
   "metadata": {
    "scrolled": true
   },
   "outputs": [],
   "source": [
    "#give me time to move to login window\n",
    "time.sleep(5)\n",
    "\n",
    "gmail = 'hadimillwala@gmail.com'\n",
    "password = 'BakraEid2022'\n",
    "\n",
    "#gets resolution of screen\n",
    "x,y = pyautogui.size()\n",
    "\n",
    "#move to gmail entry box\n",
    "pyautogui.moveTo(x * 0.4265625,y * 0.475)\n",
    "pyautogui.click()\n",
    "\n",
    "#type gmail and press enter\n",
    "pyautogui.typewrite(gmail)\n",
    "pyautogui.press('Enter')\n",
    "\n",
    "#wait for webpage to load\n",
    "time.sleep(6)\n",
    "\n",
    "#move to password entry box\n",
    "pyautogui.moveTo(x * 0.4265625,y * 0.5527777777777778)\n",
    "pyautogui.click()\n",
    "\n",
    "#type password and press enter\n",
    "pyautogui.typewrite(password)\n",
    "pyautogui.press('Enter')"
   ]
  },
  {
   "cell_type": "code",
   "execution_count": 3,
   "id": "80ff6697",
   "metadata": {},
   "outputs": [
    {
     "name": "stdout",
     "output_type": "stream",
     "text": [
      "0.428125 0.5648148148148148\n",
      "0.428125 0.5666666666666667\n",
      "0.428125 0.5666666666666667\n",
      "0.428125 0.5666666666666667\n",
      "0.428125 0.5666666666666667\n",
      "0.428125 0.5666666666666667\n",
      "0.428125 0.5666666666666667\n",
      "0.428125 0.5666666666666667\n",
      "0.4359375 0.5694444444444444\n",
      "0.43645833333333334 0.5703703703703704\n"
     ]
    }
   ],
   "source": [
    "a,b = pyautogui.size()\n",
    "\n",
    "for i in range(10):\n",
    "    time.sleep(1)\n",
    "    x,y = pyautogui.position()\n",
    "    print(x/a,y/b)"
   ]
  },
  {
   "cell_type": "code",
   "execution_count": null,
   "id": "ecad8d5a",
   "metadata": {},
   "outputs": [],
   "source": []
  }
 ],
 "metadata": {
  "kernelspec": {
   "display_name": "Python 3 (ipykernel)",
   "language": "python",
   "name": "python3"
  },
  "language_info": {
   "codemirror_mode": {
    "name": "ipython",
    "version": 3
   },
   "file_extension": ".py",
   "mimetype": "text/x-python",
   "name": "python",
   "nbconvert_exporter": "python",
   "pygments_lexer": "ipython3",
   "version": "3.9.12"
  }
 },
 "nbformat": 4,
 "nbformat_minor": 5
}
